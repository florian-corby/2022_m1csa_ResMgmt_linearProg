{
 "cells": [
  {
   "cell_type": "markdown",
   "metadata": {},
   "source": [
    "# Introduction to PuLP\n",
    "\n",
    "[PuLP](https://pythonhosted.org/PuLP/) is a python library designed to write Linear Programs (LP) and to transform them in a format compatible with existing LP/ILP solver (such as CBC, GLPK, Gurobi or Cplex).\n"
   ]
  },
  {
   "cell_type": "markdown",
   "metadata": {},
   "source": [
    "## Additional resources\n",
    "Here is a (non-exhaustive) list of resources you can read to help you to formulate your problem or to understand issues:\n",
    "- [PuLP official documentation](https://www.coin-or.org/PuLP/index.html)\n",
    "- [Another introduction to PuLP](http://benalexkeen.com/linear-programming-with-python-and-pulp-part-2/)\n",
    "- [Transform variable multiplication into linear program](https://www.leandro-coelho.com/linearization-product-variables/)"
   ]
  },
  {
   "cell_type": "markdown",
   "metadata": {},
   "source": [
    "# Simple LP problem : optimizing studying time\n",
    "\n",
    "To introduce PuLP, a first, very simple problem is proposed.\n",
    "\n",
    "Let's consider a student who desires having its diploma while working as few as possible.\n",
    "He has multiple subjects this semester, with different coefficients for the final score.\n",
    "Also, he has some backgroud and knows how much time he should study each subject in order to have a perfect $20/20$ score.\n",
    "\n",
    "We will consider that the resulting score at an exam is proportional to the time spent studying.\n",
    "In addition, no minimum score is required per exam: *the condition to success is simply to have a global score higher than $10/20$ at the whole semester*."
   ]
  },
  {
   "cell_type": "code",
   "execution_count": 1,
   "metadata": {},
   "outputs": [],
   "source": [
    "import pulp\n",
    "import pandas as pd"
   ]
  },
  {
   "cell_type": "markdown",
   "metadata": {},
   "source": [
    "### Input of the problem\n",
    "\n",
    "Suppose you have 2 different classes, *Resource Management* and *Theoretical Computer Science (CS)*.\n",
    "Their coefficients are respectively $2$ and $1$.\n",
    "As you have a better background in *Theoretical CS*, you consider it will require only 10 hours to have a 20/20 mark and you know that you can't have less than 5/20 even if you spend no time on it before the exam.\n",
    "For *Resource Management*, you think it requires around 25 hours for the perfect mark, with a minum of 3/20.\n",
    "\n",
    "An average of 10/20 is needed to have your semester.\n",
    "However, as you can over/under perform slightly the day of the exam, you prefer to target 12/20.\n",
    "\n",
    "| Subject            | Coefficient | Time for having 20/20   | Minimum Grade |\n",
    "|:-------------------|-------------|-------------------------|---------------|\n",
    "| Resource Management| 2           | 20 hours                |   3/20        |\n",
    "| Theorical CS       | 1           | 10 hours                |   5/20        |\n",
    "\n",
    "The inputs of the problems are simply *constant values* (constant for a given *instance* of the problem).\n",
    "To avoid [Magic Values](https://en.wikipedia.org/wiki/Magic_number_(programming)) in the code, we can simply define them as python values:\n"
   ]
  },
  {
   "cell_type": "code",
   "execution_count": 2,
   "metadata": {},
   "outputs": [],
   "source": [
    "# Coefficients\n",
    "coef_rm = 2\n",
    "coef_tcs = 1\n",
    "\n",
    "# Time for perfect score\n",
    "#maxtime_rm = 25\n",
    "#maxtime_tcs = 10\n",
    "maxtime_rm = 20\n",
    "maxtime_tcs = 10\n",
    "\n",
    "mingrade_rm = 3/20\n",
    "mingrade_tcs = 4/20\n",
    "\n",
    "# the targetted semester score (as a fraction in [0, 1])\n",
    "target = 12/20"
   ]
  },
  {
   "cell_type": "markdown",
   "metadata": {},
   "source": [
    "### Formulation as a Linear Program\n",
    "\n",
    "We want to *minimize* the total time spent studying.\n",
    "Let's note $t_{rm}$ the time spent for Resource Management, and $t_{tcs}$ the time spent for Theorical Computer Science.\n",
    "\n",
    "$$\n",
    "\\begin{equation}\n",
    "\\text{Minimize: } t_{rm} + t_{tcs}\n",
    "\\end{equation}\n",
    "$$\n",
    "\n",
    "Multiple constraints should be set:\n",
    "- $t_{rm}$ and $t_{tcs}$ are positive numbers\n",
    "- $t_{rm}$ and $t_{tcs}$ can't be more than the time required for having the perfect score\n",
    "- the score expected for each must, considering the coefficients, give at least the targetted score to the whole semester\n",
    "\n",
    "$$\n",
    "\\begin{align}\n",
    "\\text{Subject to:} \\quad & t_{rm} \\geq 0 \\\\\n",
    "& t_{tcs} \\geq 0 \\\\\n",
    "& t_{rm} \\leq \\textit{maxtime}_{rm} \\\\\n",
    "& t_{tcs} \\leq \\textit{maxtime}_{tcs} \\\\\n",
    "& \\frac{\\left(\\textit{min}_{tcs} +  \\frac{t_{tcs} \\cdot (20/20 - \\textit{min}_{tcs})}{\\textit{maxtime}_{tcs}} \\right) \\cdot \\textit{coef}_{tcs}  \n",
    "           + \\left(\\textit{min}_{rm} +  \\frac{t_{rm} \\cdot (20/20 - \\textit{min}_{rm})}{\\textit{maxtime}_{rm}} \\right) \\cdot \\textit{coef}_{rm}}\n",
    "       {\\textit{coef}_{rm} + \\textit{coef}_{tcs}} \\geq \\textit{target}\n",
    "\\end{align}\n",
    "$$\n",
    "\n",
    "**Note:** as $\\textit{min}_{xxx}$, $\\textit{coef}_{xxx}$ and $\\textit{maxtime}_{xxx}$ are inputs of the problem, the last constraint **is** linear (possible to rewrite as: $t_{tcs} \\cdot a + t_{rm} \\cdot b - c \\geq 0$).\n"
   ]
  },
  {
   "cell_type": "markdown",
   "metadata": {},
   "source": [
    "#### Decision variable declaration for PuLP"
   ]
  },
  {
   "cell_type": "code",
   "execution_count": 3,
   "metadata": {},
   "outputs": [
    {
     "name": "stderr",
     "output_type": "stream",
     "text": [
      "/home/chuxclub/.local/lib/python3.10/site-packages/pulp/pulp.py:1352: UserWarning: Spaces are not permitted in the name. Converted to '_'\n",
      "  warnings.warn(\"Spaces are not permitted in the name. Converted to '_'\")\n"
     ]
    }
   ],
   "source": [
    "prob = pulp.LpProblem(\"Optimize the time spent to obtain your semester\")"
   ]
  },
  {
   "cell_type": "code",
   "execution_count": 4,
   "metadata": {},
   "outputs": [],
   "source": [
    "time_rm = pulp.LpVariable(\"Time_ResourceManagement\")\n",
    "time_tcs = pulp.LpVariable(\"Time_TheoricalCS\")"
   ]
  },
  {
   "cell_type": "markdown",
   "metadata": {},
   "source": [
    "#### Adding the constraints to the problem"
   ]
  },
  {
   "cell_type": "code",
   "execution_count": 5,
   "metadata": {},
   "outputs": [],
   "source": [
    "# time spent must be positive\n",
    "prob += time_rm >= 0\n",
    "prob += time_tcs >= 0"
   ]
  },
  {
   "cell_type": "code",
   "execution_count": 6,
   "metadata": {},
   "outputs": [],
   "source": [
    "# no more than 20/20 to each class, spending more time is useless\n",
    "prob += time_rm <= maxtime_rm\n",
    "prob += time_tcs <= maxtime_tcs"
   ]
  },
  {
   "cell_type": "code",
   "execution_count": 7,
   "metadata": {},
   "outputs": [],
   "source": [
    "# at least 12/20 ('target') for the weighted average (semester mark)\n",
    "\n",
    "# expressions for simplifications of the equations\n",
    "score_rm = mingrade_rm + time_rm * (1 / maxtime_rm) * (20/20 - mingrade_rm)\n",
    "score_tcs = mingrade_tcs + time_tcs * (1 / maxtime_tcs) * (20/20 - mingrade_tcs)\n",
    "\n",
    "# real constraint to add\n",
    "prob += (score_rm * coef_rm + score_tcs * coef_tcs) * (1 / (coef_rm + coef_tcs)) >= target\n"
   ]
  },
  {
   "cell_type": "markdown",
   "metadata": {},
   "source": [
    "#### Objective of the problem\n",
    "\n",
    "**Note:** Usually, the *sense* and *objective* is defined at the beginning of the problem in PuLP (see the doc)."
   ]
  },
  {
   "cell_type": "code",
   "execution_count": 8,
   "metadata": {},
   "outputs": [],
   "source": [
    "prob.sense = pulp.LpMinimize\n",
    "prob.setObjective(time_rm + time_tcs)"
   ]
  },
  {
   "cell_type": "markdown",
   "metadata": {},
   "source": [
    "## Resolution of this instance\n",
    "\n",
    "If the solver used by PuLP is able to find a solution to the problem, it will return a status `Optimal` and it will be possible to access to the value of all the descision variables and constraints declared previously."
   ]
  },
  {
   "cell_type": "code",
   "execution_count": 9,
   "metadata": {},
   "outputs": [
    {
     "name": "stdout",
     "output_type": "stream",
     "text": [
      "Welcome to the CBC MILP Solver \n",
      "Version: 2.10.3 \n",
      "Build Date: Dec 15 2019 \n",
      "\n",
      "command line - /home/chuxclub/.local/lib/python3.10/site-packages/pulp/apis/../solverdir/cbc/linux/64/cbc /tmp/d691f64663c34b80b7b740b8eae4333f-pulp.mps timeMode elapsed branch printingOptions all solution /tmp/d691f64663c34b80b7b740b8eae4333f-pulp.sol (default strategy 1)\n",
      "At line 2 NAME          MODEL\n",
      "At line 3 ROWS\n",
      "At line 10 COLUMNS\n",
      "At line 19 RHS\n",
      "At line 25 BOUNDS\n",
      "At line 28 ENDATA\n",
      "Problem MODEL has 5 rows, 2 columns and 6 elements\n",
      "Coin0008I MODEL read with 0 errors\n",
      "Option for timeMode changed from cpu to elapsed\n",
      "Presolve 1 (-4) rows, 2 (0) columns and 2 (-4) elements\n",
      "0  Obj 5.7823526 Primal inf 9.511764 (1)\n",
      "1  Obj 15.294118\n",
      "Optimal - objective value 15.294118\n",
      "After Postsolve, objective 15.294118, infeasibilities - dual 0 (0), primal 0 (0)\n",
      "Optimal objective 15.29411765 - 1 iterations time 0.002, Presolve 0.00\n",
      "Option for printingOptions changed from normal to all\n",
      "Total time (CPU seconds):       0.00   (Wallclock seconds):       0.00\n",
      "\n"
     ]
    },
    {
     "data": {
      "text/plain": [
       "'Optimal'"
      ]
     },
     "execution_count": 9,
     "metadata": {},
     "output_type": "execute_result"
    }
   ],
   "source": [
    "prob.solve()\n",
    "pulp.LpStatus[prob.status]"
   ]
  },
  {
   "cell_type": "markdown",
   "metadata": {},
   "source": [
    "It is possible to access to all the variables of the problem and their final values."
   ]
  },
  {
   "cell_type": "code",
   "execution_count": 10,
   "metadata": {},
   "outputs": [
    {
     "name": "stdout",
     "output_type": "stream",
     "text": [
      "Time_ResourceManagement = 15.294118\n",
      "Time_TheoricalCS = 0.0\n"
     ]
    }
   ],
   "source": [
    "for v in prob.variables():\n",
    "    print(v.name, '=', v.varValue)"
   ]
  },
  {
   "cell_type": "markdown",
   "metadata": {},
   "source": [
    "Another way to get the value of a variable is by the `LpVariable` instance directly, through the method `value()`."
   ]
  },
  {
   "cell_type": "code",
   "execution_count": 11,
   "metadata": {},
   "outputs": [
    {
     "name": "stdout",
     "output_type": "stream",
     "text": [
      "I need to work on Resource Management for exactly 15:17:38.824800\n"
     ]
    }
   ],
   "source": [
    "import datetime\n",
    "time_spent = datetime.timedelta(hours=time_rm.value())\n",
    "print('I need to work on Resource Management for exactly {}'.format(str(time_spent)))"
   ]
  },
  {
   "cell_type": "markdown",
   "metadata": {},
   "source": [
    "It must be noted that the value of an expression (`LpAffineExpression`) can be evaluated the same way."
   ]
  },
  {
   "cell_type": "code",
   "execution_count": 12,
   "metadata": {},
   "outputs": [
    {
     "name": "stdout",
     "output_type": "stream",
     "text": [
      "Will result in score of 16.00/20 in RM and 4.00/20 in TCS.\n"
     ]
    }
   ],
   "source": [
    "print('Will result in score of {:.2f}/20 in RM and {:.2f}/20 in TCS.'.format(score_rm.value() * 20, score_tcs.value() * 20))"
   ]
  },
  {
   "cell_type": "markdown",
   "metadata": {},
   "source": [
    "## Use of indexed variables\n",
    "\n",
    "The same problem may be writen differently if we want to support any number of subjects ($N$).\n",
    "\n",
    "$$\n",
    "\\begin{equation}\n",
    "\\text{Minimize: } \\sum_{i=1}^N{t_{i}}\n",
    "\\end{equation}\n",
    "$$\n",
    "\n",
    "$$\n",
    "\\text{Subject to:} \\\\\n",
    "\\begin{align}\n",
    "\\forall i \\in [1, N] \\quad & t_{i} \\geq 0 \\\\\n",
    "& t_{i} \\leq \\textit{maxtime}_{i} \\\\\n",
    "\\end{align}\\\\\n",
    "\\sum_{i=1}^N{\n",
    "             \\frac{\n",
    "                    \\left(\\textit{min}_{i} +  \\frac{t_{i} \\cdot (20/20 - \\textit{min}_{i})}{\\textit{maxtime}_{i}} \\right) \\cdot \\textit{coef}_{i}\n",
    "                  }\n",
    "                  {\\sum_{j=1}^N{ \\textit{coef}_{j} }}\n",
    "             } \\geq \\textit{target}\n",
    "$$\n"
   ]
  },
  {
   "cell_type": "code",
   "execution_count": 13,
   "metadata": {},
   "outputs": [],
   "source": [
    "N = 2\n",
    "subjects = ['Resource Management', 'Theorical CS']\n",
    "\n",
    "# Coefficients\n",
    "coefs = [coef_rm, coef_tcs]\n",
    "\n",
    "# Time for perfect score\n",
    "maxtimes = [maxtime_rm, maxtime_tcs]\n",
    "mingrades = [mingrade_rm, mingrade_tcs]\n",
    "\n",
    "target = 12/20"
   ]
  },
  {
   "cell_type": "code",
   "execution_count": 14,
   "metadata": {},
   "outputs": [],
   "source": [
    "prob_any = pulp.LpProblem(\"Optimize the time spent to obtain any semester with any number of subjects\")"
   ]
  },
  {
   "cell_type": "code",
   "execution_count": 15,
   "metadata": {},
   "outputs": [],
   "source": [
    "times = [pulp.LpVariable('Time_' + name) for name in subjects]"
   ]
  },
  {
   "cell_type": "markdown",
   "metadata": {},
   "source": [
    "#### Adding the constraints to the problem"
   ]
  },
  {
   "cell_type": "code",
   "execution_count": 16,
   "metadata": {},
   "outputs": [],
   "source": [
    "for i in range(N):\n",
    "    prob_any += times[i] >= 0\n",
    "    prob_any += times[i] <= maxtimes[i]\n",
    "    \n",
    "# expressions for simplifications\n",
    "scores = []\n",
    "for i in range(N):\n",
    "    scores.append(mingrades[i] + times[i] * (1 / maxtimes[i]) * (20/20 - mingrades[i]))"
   ]
  },
  {
   "cell_type": "markdown",
   "metadata": {},
   "source": [
    "*Warning*: do **not** use the python builtin `sum()` for building a Pulp expression.\n",
    "Instead, use `pulp.lpSum()`.\n",
    "\n",
    "However, you should use python's `sum()` if you are only summing constants."
   ]
  },
  {
   "cell_type": "code",
   "execution_count": 17,
   "metadata": {},
   "outputs": [],
   "source": [
    "prob_any += pulp.lpSum(scores[i] * coefs[i] * (1 / sum(coefs)) for i in range(N)) >= target"
   ]
  },
  {
   "cell_type": "markdown",
   "metadata": {},
   "source": [
    "#### Objective of the problem and resolution"
   ]
  },
  {
   "cell_type": "code",
   "execution_count": 18,
   "metadata": {},
   "outputs": [],
   "source": [
    "prob_any.sense = pulp.LpMinimize\n",
    "prob_any.setObjective(pulp.lpSum(times))"
   ]
  },
  {
   "cell_type": "code",
   "execution_count": 19,
   "metadata": {},
   "outputs": [
    {
     "name": "stdout",
     "output_type": "stream",
     "text": [
      "Welcome to the CBC MILP Solver \n",
      "Version: 2.10.3 \n",
      "Build Date: Dec 15 2019 \n",
      "\n",
      "command line - /home/chuxclub/.local/lib/python3.10/site-packages/pulp/apis/../solverdir/cbc/linux/64/cbc /tmp/03643463b5d04f57a1ea2e8ba4502166-pulp.mps timeMode elapsed branch printingOptions all solution /tmp/03643463b5d04f57a1ea2e8ba4502166-pulp.sol (default strategy 1)\n",
      "At line 2 NAME          MODEL\n",
      "At line 3 ROWS\n",
      "At line 10 COLUMNS\n",
      "At line 19 RHS\n",
      "At line 25 BOUNDS\n",
      "At line 28 ENDATA\n",
      "Problem MODEL has 5 rows, 2 columns and 6 elements\n",
      "Coin0008I MODEL read with 0 errors\n",
      "Option for timeMode changed from cpu to elapsed\n",
      "Presolve 1 (-4) rows, 2 (0) columns and 2 (-4) elements\n",
      "0  Obj 5.7823526 Primal inf 9.511764 (1)\n",
      "1  Obj 15.294118\n",
      "Optimal - objective value 15.294118\n",
      "After Postsolve, objective 15.294118, infeasibilities - dual 0 (0), primal 0 (0)\n",
      "Optimal objective 15.29411765 - 1 iterations time 0.002, Presolve 0.00\n",
      "Option for printingOptions changed from normal to all\n",
      "Total time (CPU seconds):       0.00   (Wallclock seconds):       0.00\n",
      "\n"
     ]
    },
    {
     "data": {
      "text/plain": [
       "'Optimal'"
      ]
     },
     "execution_count": 19,
     "metadata": {},
     "output_type": "execute_result"
    }
   ],
   "source": [
    "prob_any.solve()\n",
    "pulp.LpStatus[prob_any.status]"
   ]
  },
  {
   "cell_type": "code",
   "execution_count": 20,
   "metadata": {},
   "outputs": [
    {
     "name": "stdout",
     "output_type": "stream",
     "text": [
      "Time_Resource_Management = 15.294118\n",
      "Time_Theorical_CS = 0.0\n"
     ]
    }
   ],
   "source": [
    "for v in prob_any.variables():\n",
    "    print(v.name, '=', v.varValue)"
   ]
  }
 ],
 "metadata": {
  "kernelspec": {
   "display_name": "Python 3 (ipykernel)",
   "language": "python",
   "name": "python3"
  },
  "language_info": {
   "codemirror_mode": {
    "name": "ipython",
    "version": 3
   },
   "file_extension": ".py",
   "mimetype": "text/x-python",
   "name": "python",
   "nbconvert_exporter": "python",
   "pygments_lexer": "ipython3",
   "version": "3.9.7"
  }
 },
 "nbformat": 4,
 "nbformat_minor": 2
}
